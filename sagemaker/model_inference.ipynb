
{
 "cells": [
  {
   "cell_type": "markdown",
   "metadata": {},
   "source": [
    "# SageMaker NLP Endpoint - Inference Notebook\n",
    "This notebook demonstrates how to use a deployed SageMaker endpoint to extract structured information from OCR'd text."
   ]
  },
  {
   "cell_type": "code",
   "execution_count": null,
   "metadata": {},
   "outputs": [],
   "source": [
    "import boto3\n",
    "import json\n",
    "\n",
    "# Define SageMaker runtime client\n",
    "runtime = boto3.client('sagemaker-runtime')\n",
    "\n",
    "# Replace with your endpoint name\n",
    "endpoint_name = 'YOUR_ENDPOINT_NAME'\n",
    "\n",
    "# Sample OCR text input\n",
    "ocr_text = '''\n",
    "Policy Number: PNC123456\n",
    "Vendor: ABC Insurance\n",
    "Date: 2023-08-15\n",
    "Loan ID: LN987654\n",
    "'''\n",
    "\n",
    "# Invoke endpoint\n",
    "response = runtime.invoke_endpoint(\n",
    "    EndpointName=endpoint_name,\n",
    "    ContentType='text/plain',\n",
    "    Body=ocr_text\n",
    ")\n",
    "\n",
    "# Parse output\n",
    "result = json.loads(response['Body'].read())\n",
    "print(json.dumps(result, indent=2))"
   ]
  }
 ],
 "metadata": {
  "kernelspec": {
   "display_name": "Python 3 (Data Science)",
   "language": "python",
   "name": "python3"
  },
  "language_info": {
   "codemirror_mode": {
    "name": "ipython",
    "version": 3
   },
   "file_extension": ".py",
   "mimetype": "text/x-python",
   "name": "python",
   "nbconvert_exporter": "python",
   "pygments_lexer": "ipython3",
   "version": "3.8.10"
  }
 },
 "nbformat": 4,
 "nbformat_minor": 2
}
